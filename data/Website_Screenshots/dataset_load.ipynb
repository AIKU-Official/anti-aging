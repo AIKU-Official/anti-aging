{
 "cells": [
  {
   "cell_type": "code",
   "execution_count": 1,
   "metadata": {},
   "outputs": [],
   "source": [
    "from PIL import Image, ImageDraw, ImageFilter\n",
    "import json\n",
    "from tqdm import tqdm\n",
    "import os"
   ]
  },
  {
   "cell_type": "code",
   "execution_count": 2,
   "metadata": {},
   "outputs": [],
   "source": [
    "dataset_path = 'Website Screenshots.v1-raw.coco/train/'\n",
    "\n",
    "with open(dataset_path + '_annotations.coco.json') as file:\n",
    "    annot = json.load(file)\n",
    "\n",
    "img_annots = annot['images']"
   ]
  },
  {
   "cell_type": "code",
   "execution_count": 3,
   "metadata": {},
   "outputs": [
    {
     "name": "stdout",
     "output_type": "stream",
     "text": [
      "image 개수:  1688\n"
     ]
    }
   ],
   "source": [
    "img_files = []\n",
    "for f in img_annots:\n",
    "    img_files.append(f['file_name'])\n",
    "\n",
    "print('image 개수: ', len(img_files))"
   ]
  },
  {
   "cell_type": "markdown",
   "metadata": {},
   "source": [
    "## Crop images"
   ]
  },
  {
   "cell_type": "code",
   "execution_count": 4,
   "metadata": {},
   "outputs": [],
   "source": [
    "os.mkdir('train/sharp') # 블러 처리된 이미지 저장할 폴더 만들기"
   ]
  },
  {
   "cell_type": "code",
   "execution_count": 5,
   "metadata": {},
   "outputs": [
    {
     "name": "stderr",
     "output_type": "stream",
     "text": [
      "0it [00:00, ?it/s]"
     ]
    },
    {
     "name": "stderr",
     "output_type": "stream",
     "text": [
      "1688it [00:00, 2659.42it/s]\n"
     ]
    }
   ],
   "source": [
    "dataset_path = 'Website Screenshots.v1-raw.coco/train/'\n",
    "save_path = 'train/sharp/'\n",
    "\n",
    "for i, image in tqdm(enumerate(img_annots)):\n",
    "    \n",
    "    img_id = image['id']\n",
    "\n",
    "    os.mkdir(save_path + 'image_'+str(img_id))    \n",
    "\n"
   ]
  },
  {
   "cell_type": "code",
   "execution_count": 6,
   "metadata": {},
   "outputs": [
    {
     "name": "stderr",
     "output_type": "stream",
     "text": [
      "76820it [03:23, 378.40it/s] \n"
     ]
    }
   ],
   "source": [
    "save_path = 'train/sharp/' # 원본 이미지 저장할 폴더 만들기\n",
    "img_id = -1\n",
    "\n",
    "for i, ann in tqdm(enumerate(annot[\"annotations\"])):\n",
    "    \n",
    "    img = Image.open(dataset_path + img_files[ann['image_id']])\n",
    "    folder_path = save_path + 'image_'+str(ann['image_id']) + '/'\n",
    "\n",
    "    if ann['category_id'] == 8:\n",
    "\n",
    "        if img_id == ann['image_id']:\n",
    "            ann_id += 1\n",
    "        else:\n",
    "            ann_id = 1\n",
    "            img_id = ann['image_id']\n",
    "            img_name = 'image_' + str(img_id)\n",
    "        \n",
    "        box = ann['bbox']\n",
    "        x1 = box[0]\n",
    "        y1 = box[1]\n",
    "        x2 = x1 + box[2]\n",
    "        y2 = y1 + box[3]\n",
    "\n",
    "        try:\n",
    "            c_img = img.crop((x1, y1, x2, y2))\n",
    "            c_img.save(folder_path + img_name + '_' + str(ann_id) + '.png')\n",
    "        except:\n",
    "            continue\n",
    "    \n",
    "        "
   ]
  },
  {
   "cell_type": "markdown",
   "metadata": {},
   "source": [
    "## Process images"
   ]
  },
  {
   "cell_type": "code",
   "execution_count": 7,
   "metadata": {},
   "outputs": [],
   "source": [
    "# os.mkdir('train/blur') # 블러 처리된 이미지 저장할 폴더 만들기"
   ]
  },
  {
   "cell_type": "code",
   "execution_count": 8,
   "metadata": {},
   "outputs": [
    {
     "name": "stderr",
     "output_type": "stream",
     "text": [
      "1688it [00:00, 8230.88it/s]\n"
     ]
    }
   ],
   "source": [
    "save_path = 'train/blur/' \n",
    "\n",
    "for i, image in tqdm(enumerate(img_annots)):\n",
    "    \n",
    "    img_id = image['id']\n",
    "\n",
    "    os.mkdir(save_path + 'image_'+str(img_id))    "
   ]
  },
  {
   "cell_type": "code",
   "execution_count": 11,
   "metadata": {},
   "outputs": [],
   "source": [
    "dataset_path = 'train/sharp/' \n",
    "save_path = 'train/blur/' \n",
    "\n",
    "for i, img_folder in enumerate(os.listdir(dataset_path)):\n",
    "    \n",
    "    folder_path = save_path + img_folder + '/'\n",
    "    \n",
    "    for j, c_img in enumerate(os.listdir(dataset_path + img_folder)):\n",
    "        \n",
    "        img = Image.open(dataset_path + img_folder + '/' + c_img)\n",
    "        b_img = img.filter(ImageFilter.BLUR)\n",
    "        b_img.save(folder_path + c_img[:-4] + '_prc.png')\n",
    "\n",
    "    "
   ]
  },
  {
   "cell_type": "code",
   "execution_count": null,
   "metadata": {},
   "outputs": [],
   "source": [
    "dataset_path = 'train/sharp/' \n",
    "save_path = 'train/blur/' # 원본 이미지 저장할 폴더 만들기\n",
    "img_id = -1\n",
    "\n",
    "for i, img_folder in enumerate(os.listdir(dataset_path)):\n",
    "    \n",
    "    folder_path = save_path + img_folder + '/'\n",
    "\n",
    "    for j, c_img in enumerate(os.listdir(dataset_path + img_folder)):\n",
    "        \n",
    "        img = Image.open(dataset_path + img_folder + '/' + c_img)\n",
    "        \n",
    "        try:\n",
    "            b_img = img.filter(ImageFilter.BLUR)\n",
    "            print(folder_path + c_img[:-4] + '_prc.png')\n",
    "            # b_img.save(folder_path + c_img + '_prc.png')\n",
    "        except:\n",
    "            continue\n",
    "    \n",
    "        "
   ]
  },
  {
   "cell_type": "markdown",
   "metadata": {},
   "source": [
    "### 이미지 예시"
   ]
  },
  {
   "cell_type": "code",
   "execution_count": 18,
   "metadata": {},
   "outputs": [
    {
     "data": {
      "image/jpeg": "[encoded data removed]",
      "image/png": "[encoded data removed]",
      "text/plain": [
       "<PIL.PngImagePlugin.PngImageFile image mode=RGB size=219x33>"
      ]
     },
     "execution_count": 18,
     "metadata": {},
     "output_type": "execute_result"
    }
   ],
   "source": [
    "sharp = Image.open('train/sharp/image_10/image_10_1.png')\n",
    "sharp"
   ]
  },
  {
   "cell_type": "code",
   "execution_count": 19,
   "metadata": {},
   "outputs": [
    {
     "data": {
      "image/jpeg": "[encoded data removed]",
      "image/png": "[encoded data removed]",
      "text/plain": [
       "<PIL.PngImagePlugin.PngImageFile image mode=RGB size=219x33>"
      ]
     },
     "execution_count": 19,
     "metadata": {},
     "output_type": "execute_result"
    }
   ],
   "source": [
    "blur = Image.open('train/blur/image_10/image_10_1_prc.png')\n",
    "blur"
   ]
  }
 ],
 "metadata": {
  "kernelspec": {
   "display_name": "Python 3",
   "language": "python",
   "name": "python3"
  },
  "language_info": {
   "codemirror_mode": {
    "name": "ipython",
    "version": 3
   },
   "file_extension": ".py",
   "mimetype": "text/x-python",
   "name": "python",
   "nbconvert_exporter": "python",
   "pygments_lexer": "ipython3",
   "version": "3.11.4"
  },
  "orig_nbformat": 4
 },
 "nbformat": 4,
 "nbformat_minor": 2
}
